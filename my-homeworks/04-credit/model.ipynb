{
 "cells": [
  {
   "cell_type": "code",
   "execution_count": 1,
   "metadata": {},
   "outputs": [
    {
     "data": {
      "text/plain": [
       "Index(['gender', 'age', 'marital_status', 'job_position', 'credit_sum',\n",
       "       'credit_month', 'tariff_id', 'score_shk', 'education', 'living_region',\n",
       "       'monthly_income', 'credit_count', 'overdue_credit_count',\n",
       "       'open_account_flg'],\n",
       "      dtype='object')"
      ]
     },
     "execution_count": 1,
     "metadata": {},
     "output_type": "execute_result"
    }
   ],
   "source": [
    "import pandas as pd\n",
    "import numpy as np\n",
    "import matplotlib.pyplot as plt\n",
    "import seaborn as sns\n",
    "\n",
    "df_orig = pd.read_csv('./credit_train.csv', sep=';', index_col='client_id')\n",
    "\n",
    "df = df_orig.copy(deep=True)\n",
    "target = df['open_account_flg']\n",
    "df.columns"
   ]
  },
  {
   "cell_type": "code",
   "execution_count": 2,
   "metadata": {
    "pycharm": {
     "is_executing": false,
     "name": "#%% Приводим к нужным типам и заполняем пустые значения\n"
    }
   },
   "outputs": [],
   "source": [
    "from sklearn_pandas import CategoricalImputer\n",
    "import sanitizer\n",
    "\n",
    "df = sanitizer.sanitize_frame(df)"
   ]
  },
  {
   "cell_type": "code",
   "execution_count": null,
   "metadata": {
    "pycharm": {
     "is_executing": true,
     "name": "#%%\n"
    }
   },
   "outputs": [],
   "source": [
    "from sklearn.linear_model import LogisticRegressionCV\n",
    "from sklearn import metrics\n",
    "\n",
    "X = df.drop(columns=['open_account_flg'])\n",
    "y = df['open_account_flg']\n",
    "\n",
    "\n",
    "clf_acc = LogisticRegressionCV(max_iter=2500, cv=10, scoring='accuracy', n_jobs=-1, random_state=42)\n",
    "clf_acc.fit(X, y)\n",
    "\n",
    "clf_rec = LogisticRegressionCV(max_iter=2500, cv=10, scoring='recall', n_jobs=-1, random_state=42)\n",
    "clf_rec.fit(X, y)\n",
    "\n",
    "clf_rocauc = LogisticRegressionCV(max_iter=2500, cv=10, scoring='roc_auc', n_jobs=-1, random_state=42)\n",
    "clf_rocauc.fit(X, y)\n",
    "\n",
    "clf_prec = LogisticRegressionCV(max_iter=2500, cv=10, scoring='precision', n_jobs=-1, random_state=42)\n",
    "clf_prec.fit(X, y)\n",
    "\n",
    "clf_f1 = LogisticRegressionCV(max_iter=2500, cv=10, scoring='f1', n_jobs=-1, random_state=42)\n",
    "clf_f1.fit(X, y)"
   ]
  },
  {
   "cell_type": "code",
   "execution_count": null,
   "metadata": {
    "pycharm": {
     "is_executing": true,
     "name": "#%%\n"
    }
   },
   "outputs": [],
   "source": [
    "print ('Max accuracy:', clf_acc.scores_[1].max())\n",
    "print ('Max recall:', clf_rec.scores_[1].max())\n",
    "print ('Max roc_auc:', clf_rocauc.scores_[1].max())\n",
    "print ('Max precision:', clf_prec.scores_[1].max())\n",
    "print ('Max f1:', clf_f1.scores_[1].max())"
   ]
  },
  {
   "cell_type": "markdown",
   "metadata": {},
   "source": [
    "Что еще можно было сделать:\n",
    "1. Классы несбалансированы, попробовать применить алгоритм SMOTE\n",
    "2. Использовался label encoder для кодирования данных. Попробовать использовать one-hot-encode вместе с средними значениями для категориальных столбцов\n",
    "3. Не совсем понятен смысл tariff_id и его связь с score_shk и что они значат"
   ]
  }
 ],
 "metadata": {
  "kernelspec": {
   "display_name": "Python 3",
   "language": "python",
   "name": "python3"
  },
  "language_info": {
   "codemirror_mode": {
    "name": "ipython",
    "version": 3
   },
   "file_extension": ".py",
   "mimetype": "text/x-python",
   "name": "python",
   "nbconvert_exporter": "python",
   "pygments_lexer": "ipython3",
   "version": "3.7.4"
  },
  "pycharm": {
   "stem_cell": {
    "cell_type": "raw",
    "metadata": {
     "collapsed": false
    },
    "source": []
   }
  }
 },
 "nbformat": 4,
 "nbformat_minor": 2
}
