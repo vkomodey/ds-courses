{
 "cells": [
  {
   "cell_type": "code",
   "execution_count": 230,
   "metadata": {
    "pycharm": {
     "is_executing": false
    }
   },
   "outputs": [
    {
     "data": {
      "text/plain": "Index(['gender', 'age', 'marital_status', 'job_position', 'credit_sum',\n       'credit_month', 'tariff_id', 'score_shk', 'education', 'living_region',\n       'monthly_income', 'credit_count', 'overdue_credit_count',\n       'open_account_flg'],\n      dtype='object')"
     },
     "metadata": {},
     "output_type": "execute_result",
     "execution_count": 230
    }
   ],
   "source": [
    "import pandas as pd\n",
    "import numpy as np\n",
    "import matplotlib.pyplot as plt\n",
    "import seaborn as sns\n",
    "\n",
    "df_orig = pd.read_csv('./credit_train.csv', sep=';', index_col='client_id')\n",
    "\n",
    "df = df_orig.copy(deep=True)\n",
    "target = df['open_account_flg']\n",
    "\n",
    "# sns.countplot(x='open_account_flg', data=df);\n",
    "df.columns"
   ]
  },
  {
   "cell_type": "code",
   "execution_count": 231,
   "outputs": [],
   "source": [
    "if df[\"credit_sum\"].dtype == 'object':\n",
    "    df[\"credit_sum\"] = df[\"credit_sum\"].str.replace(',', '.')\n",
    "    \n",
    "df[\"credit_sum\"] = df[\"credit_sum\"].astype('float64')\n",
    "\n",
    "if df[\"score_shk\"].dtype == 'object':\n",
    "    df[\"score_shk\"] = df[\"score_shk\"].str.replace(',', '.')\n",
    "    \n",
    "df[\"score_shk\"] = df[\"score_shk\"].astype('float64')\n",
    "\n",
    "empty_indexes = df[df[\"credit_count\"].isna()].index.to_list()\n",
    "m = int(df[\"credit_count\"].mean())\n",
    "\n",
    "df.fillna({\n",
    "    'age': int(df[\"age\"].mean()),\n",
    "    \"marital_status\": df[\"marital_status\"].describe().top,\n",
    "    \"credit_sum\": df[\"credit_sum\"].mean(),\n",
    "    \"score_shk\": df[\"score_shk\"].mean(),\n",
    "    \"education\": df[\"education\"].describe().top,\n",
    "    \"living_region\": df[\"living_region\"].describe().top,\n",
    "    \"monthly_income\": df[\"monthly_income\"].mean(),\n",
    "    \"credit_count\": m,\n",
    "    \"overdue_credit_count\": m - 1,\n",
    "}, inplace=True)\n",
    "\n",
    "df[\"age\"] = df[\"age\"].astype('int')"
   ],
   "metadata": {
    "collapsed": false,
    "pycharm": {
     "name": "#%% Filling nulls for params\n",
     "is_executing": false
    }
   }
  },
  {
   "cell_type": "code",
   "execution_count": 232,
   "outputs": [],
   "source": [
    "from sklearn import preprocessing\n",
    "from sklearn.model_selection import train_test_split\n",
    "\n",
    "encoder = preprocessing.LabelEncoder()\n",
    "\n",
    "for dtype in df.dtypes.index:\n",
    "    if df.dtypes[dtype] == 'object':\n",
    "        df[dtype] = encoder.fit_transform(df[dtype])       "
   ],
   "metadata": {
    "collapsed": false,
    "pycharm": {
     "name": "#%%\n",
     "is_executing": false
    }
   }
  },
  {
   "cell_type": "code",
   "execution_count": 251,
   "outputs": [
    {
     "name": "stdout",
     "text": [
      "Accuracy - 0.8229541945445188\n"
     ],
     "output_type": "stream"
    },
    {
     "data": {
      "text/plain": "array([[46371,     0],\n       [ 9976,     0]])"
     },
     "metadata": {},
     "output_type": "execute_result",
     "execution_count": 251
    }
   ],
   "source": [
    "from sklearn.linear_model import LogisticRegression\n",
    "from sklearn.model_selection import train_test_split\n",
    "from sklearn.metrics import confusion_matrix\n",
    "\n",
    "X = df.drop(columns=['open_account_flg'])\n",
    "y = df['open_account_flg']\n",
    "\n",
    "X_train, X_test, y_train, y_test = train_test_split(X, y, test_size=0.33, random_state=34)\n",
    "\n",
    "clf = LogisticRegression(random_state=2, solver='lbfgs')\n",
    "\n",
    "clf.fit(X_train, y_train)\n",
    "\n",
    "y_test_pred = clf.predict(X_test)\n",
    "\n",
    "print(\"Accuracy - {}\".format(clf.score(X_test, y_test)))\n",
    "confusion_matrix(y_test, y_test_pred)\n",
    "\n",
    "# Видим, что модель вообще не несет никакого смысла. Все предсказания дают в итоге ноль\n",
    "# Accuracy у этой модели = 0.8229. Такой немаленький результат из-за того что классы несбалансированы и данная оценка \n",
    "# не источником доверия"
   ],
   "metadata": {
    "collapsed": false,
    "pycharm": {
     "name": "#%%\n",
     "is_executing": false
    }
   }
  },
  {
   "cell_type": "code",
   "execution_count": 252,
   "outputs": [
    {
     "data": {
      "text/plain": "<Figure size 432x288 with 1 Axes>",
      "image/png": "[encoded data removed]"
     },
     "metadata": {},
     "output_type": "display_data"
    }
   ],
   "source": [
    "import seaborn as sns\n",
    "\n",
    "sns.set(style='darkgrid')\n",
    "\n",
    "sns.countplot(x='open_account_flg', hue=\"job_position\", data=df_orig);\n",
    "# Попробуем выделить категориальные признаки. Таковыми являются колонки gender, marital_status, job_position, education, living_region"
   ],
   "metadata": {
    "collapsed": false,
    "pycharm": {
     "name": "#%%\n",
     "is_executing": false
    }
   }
  }
 ],
 "metadata": {
  "kernelspec": {
   "display_name": "Python 3",
   "language": "python",
   "name": "python3"
  },
  "language_info": {
   "codemirror_mode": {
    "name": "ipython",
    "version": 3
   },
   "file_extension": ".py",
   "mimetype": "text/x-python",
   "name": "python",
   "nbconvert_exporter": "python",
   "pygments_lexer": "ipython3",
   "version": "3.7.4"
  },
  "pycharm": {
   "stem_cell": {
    "cell_type": "raw",
    "source": [],
    "metadata": {
     "collapsed": false
    }
   }
  }
 },
 "nbformat": 4,
 "nbformat_minor": 2
}