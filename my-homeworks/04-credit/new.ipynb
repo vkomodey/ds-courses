{
 "cells": [
  {
   "cell_type": "code",
   "execution_count": 1,
   "metadata": {
    "pycharm": {
     "is_executing": false
    }
   },
   "outputs": [],
   "source": [
    "import pandas as pd\n",
    "import numpy as np\n",
    "import matplotlib.pyplot as plt\n",
    "import seaborn as sns\n",
    "\n",
    "df_orig = pd.read_csv('./credit_train.csv', sep=';', index_col='client_id')\n",
    "\n",
    "df = df_orig.copy(deep=True)\n",
    "target = df['open_account_flg']\n",
    "# pd.Series(df_orig[\"living_region\"].unique()).to_csv('./regions.csv')"
   ]
  },
  {
   "cell_type": "code",
   "execution_count": 8,
   "metadata": {
    "pycharm": {
     "is_executing": false,
     "name": "#%% Приводим к нужным типам и заполняем пустые значения\n"
    }
   },
   "outputs": [],
   "source": [
    "from sklearn_pandas import CategoricalImputer\n",
    "import sanitizer\n",
    "\n",
    "df = sanitizer.sanitize_frame(df)"
   ]
  },
  {
   "cell_type": "code",
   "execution_count": null,
   "metadata": {
    "pycharm": {
     "is_executing": true,
     "name": "#%%\n"
    }
   },
   "outputs": [],
   "source": [
    "import matplotlib.pyplot as plt\n",
    "\n",
    "plt.matshow(df.corr())\n",
    "plt.show()\n",
    "df.corr()\n",
    "# Видим, что наибольшая корреляция у признаков tariff_id и score_shk - 0.398"
   ]
  },
  {
   "cell_type": "code",
   "execution_count": null,
   "metadata": {
    "pycharm": {
     "is_executing": true,
     "name": "#%%\n"
    }
   },
   "outputs": [],
   "source": [
    "from sklearn import preprocessing\n",
    "from sklearn.model_selection import train_test_split\n",
    "\n",
    "encoder = preprocessing.LabelEncoder()\n",
    "\n",
    "for dtype in df.dtypes.index:\n",
    "    if df.dtypes[dtype] == 'object':\n",
    "        df[dtype] = encoder.fit_transform(df[dtype])  \n",
    "df.columns"
   ]
  },
  {
   "cell_type": "code",
   "execution_count": null,
   "metadata": {
    "pycharm": {
     "is_executing": true,
     "name": "#%%\n"
    }
   },
   "outputs": [],
   "source": [
    "def one_hot_encode(frame, column_name):\n",
    "    series = frame[column_name]\n",
    "    series_dummies = pd.get_dummies(series, prefix=column_name)\n",
    "    new_frame = frame.join(series_dummies)\n",
    "    new_frame = new_frame.drop(columns=[column_name])\n",
    "    \n",
    "    return new_frame\n",
    "    \n",
    "df = one_hot_encode(df, 'gender')\n",
    "df = one_hot_encode(df, 'credit_month')\n",
    "df = one_hot_encode(df, 'marital_status')\n",
    "df = one_hot_encode(df, 'education')\n",
    "df = one_hot_encode(df, 'job_position')\n",
    "df = one_hot_encode(df, 'living_region')\n",
    "\n",
    "df.columns"
   ]
  },
  {
   "cell_type": "code",
   "execution_count": null,
   "metadata": {
    "pycharm": {
     "is_executing": true,
     "name": "#%%\n"
    }
   },
   "outputs": [],
   "source": [
    "\n",
    "# Нормализуем credit_sum, monthly_income\n",
    "\n",
    "def normalize(series):\n",
    "    return (series - series.mean()) / series.std()\n",
    "    \n",
    "df[\"credit_sum\"] = normalize(df[\"credit_sum\"])\n",
    "df[\"monthly_income\"] = normalize(df[\"monthly_income\"])\n",
    "df[\"tariff_id\"] = normalize(df[\"tariff_id\"])\n",
    "df[\"score_shk\"] = normalize(df[\"score_shk\"])\n",
    "\n",
    "df.columns"
   ]
  },
  {
   "cell_type": "code",
   "execution_count": null,
   "metadata": {
    "pycharm": {
     "is_executing": true,
     "name": "#%%\n"
    }
   },
   "outputs": [],
   "source": [
    "dfe = df[['tariff_id', 'score_shk', 'open_account_flg']].copy()[:500]\n",
    "\n",
    "X = dfe.iloc[:,:-1]\n",
    "y = dfe.iloc[:,-1]\n",
    "\n",
    "admitted = dfe.loc[y==1]\n",
    "not_admitted = dfe.loc[y==0]\n",
    "\n",
    "plt.scatter(admitted.iloc[:, 0], admitted.iloc[:, 1], s=10, label='Admitted')\n",
    "plt.scatter(not_admitted.iloc[:, 0], not_admitted.iloc[:, 1], s=10, label='Not Admitted')\n",
    "plt.legend()\n",
    "plt.show()\n",
    "\n"
   ]
  },
  {
   "cell_type": "code",
   "execution_count": null,
   "metadata": {
    "pycharm": {
     "is_executing": true,
     "name": "#%%\n"
    }
   },
   "outputs": [],
   "source": [
    "# df = df.drop(columns=[\"marital_status\", \"job_position\", \"score_shk\", \"education\", \"living_region\", \"overdue_credit_count\"])\n",
    "# df.head()"
   ]
  },
  {
   "cell_type": "code",
   "execution_count": null,
   "metadata": {
    "pycharm": {
     "is_executing": true,
     "name": "#%%\n"
    }
   },
   "outputs": [],
   "source": [
    "from sklearn.linear_model import LogisticRegression\n",
    "from sklearn.model_selection import train_test_split\n",
    "\n",
    "X = df.drop(columns=['open_account_flg'])\n",
    "y = df['open_account_flg']\n",
    "\n",
    "X_train, X_test, y_train, y_test = train_test_split(X, y, test_size=0.33, random_state=34)\n",
    "clf = LogisticRegression(random_state=2, solver='lbfgs', max_iter=2500)\n",
    "\n",
    "clf.fit(X_train, y_train)"
   ]
  },
  {
   "cell_type": "code",
   "execution_count": null,
   "metadata": {
    "pycharm": {
     "is_executing": true,
     "name": "#%%\n"
    }
   },
   "outputs": [],
   "source": [
    "from sklearn.metrics import confusion_matrix, classification_report, f1_score\n",
    "\n",
    "y_test_pred = clf.predict(X_test)\n",
    "# \n",
    "# print(\"Accuracy - {}\".format(clf.score(X_test, y_test)))\n",
    "print(confusion_matrix(y_test, y_test_pred))\n",
    "# print(classification_report(y_test, y_test_pred))\n",
    "print(f1_score(y_test, y_test_pred))\n",
    "clf.coef_\n",
    "# Accuracy почти не изменилась. Confusion matrix показывает, что модель стала определять true negative и это уже хорошо\n",
    "\n",
    "df.head()"
   ]
  }
 ],
 "metadata": {
  "kernelspec": {
   "display_name": "Python 3",
   "language": "python",
   "name": "python3"
  },
  "language_info": {
   "codemirror_mode": {
    "name": "ipython",
    "version": 3
   },
   "file_extension": ".py",
   "mimetype": "text/x-python",
   "name": "python",
   "nbconvert_exporter": "python",
   "pygments_lexer": "ipython3",
   "version": "3.7.4"
  },
  "pycharm": {
   "stem_cell": {
    "cell_type": "raw",
    "metadata": {
     "collapsed": false
    },
    "source": []
   }
  }
 },
 "nbformat": 4,
 "nbformat_minor": 2
}
