{
 "cells": [
  {
   "cell_type": "code",
   "execution_count": 222,
   "metadata": {
    "pycharm": {
     "is_executing": false,
     "name": "#%%\n"
    }
   },
   "outputs": [],
   "source": [
    "import numpy as np\n",
    "import matplotlib.pyplot as plt\n",
    "import pandas as pd\n",
    "from sklearn import preprocessing\n",
    "\n",
    "pd.set_option('display.max_rows', 500)\n",
    "pd.set_option('display.max_columns', 500)\n",
    "pd.set_option('display.width', 1000)"
   ]
  },
  {
   "cell_type": "code",
   "execution_count": 223,
   "outputs": [],
   "source": [
    "train_set = pd.read_csv('./credit_train.csv', sep=';', usecols=list(range(14)), index_col='client_id')\n",
    "target_set = pd.read_csv('./credit_train.csv', sep=';', usecols=[14])\n",
    "s_train_set = train_set.copy(deep=True)\n",
    "\n",
    "train_set.head()\n",
    "\n",
    "# TODO remove to_int\n",
    "def fill_empty(series, to_int=False):\n",
    "    # TODO change to median?\n",
    "    mean = series.mean()\n",
    "    if to_int:\n",
    "        mean = round(mean)\n",
    "        \n",
    "    return series.fillna(mean, inplace=True)"
   ],
   "metadata": {
    "collapsed": false,
    "pycharm": {
     "name": "#%%\n",
     "is_executing": false
    }
   }
  },
  {
   "cell_type": "markdown",
   "source": [
    "Общее количество объектов в обучающей выборке = 170746"
   ],
   "metadata": {
    "collapsed": false,
    "pycharm": {
     "name": "#%% md\n"
    }
   }
  },
  {
   "cell_type": "code",
   "source": [
    "len(train_set)"
   ],
   "metadata": {
    "collapsed": false,
    "pycharm": {
     "name": "#%%\n",
     "is_executing": false
    }
   },
   "execution_count": 192,
   "outputs": [
    {
     "data": {
      "text/plain": "170746"
     },
     "metadata": {},
     "output_type": "execute_result",
     "execution_count": 192
    }
   ]
  },
  {
   "cell_type": "markdown",
   "source": [
    "## Исследование и преобразование фич"
   ],
   "metadata": {
    "collapsed": false,
    "pycharm": {
     "name": "#%% md\n",
     "is_executing": false
    }
   }
  },
  {
   "cell_type": "code",
   "execution_count": 224,
   "outputs": [],
   "source": [
    "# gender. Видим, что пропусков нет. Значения пола равны 'M', 'F'. Перекодируем в числовые значения используя LabelEncoder\n",
    "gender_encoder = preprocessing.LabelEncoder()\n",
    "s_train_set[\"gender\"] = gender_encoder.fit_transform(s_train_set[\"gender\"])\n",
    "\n",
    "# age.Всего три записи с незаполненными полями возраста. Заполним их средним по выборке значением\n",
    "s_train_set[\"age\"].fillna(round(train_set[\"age\"].mean()), inplace=True);\n",
    "\n",
    "# marital_status. В датасете видим незаполненные поля. Заполним данное поле самым встречаемым значением: `MAR` и перекодируем используя LabelEncoder\n",
    "m_status = train_set[\"marital_status\"]\n",
    "s_train_set[\"marital_status\"].fillna(m_status.describe()[\"top\"], inplace=True)\n",
    "\n",
    "marital_status_encoder = preprocessing.LabelEncoder()\n",
    "s_train_set[\"marital_status\"] = marital_status_encoder.fit_transform(s_train_set[\"marital_status\"])\n",
    "\n",
    "# job_position\n",
    "job_encoder = preprocessing.LabelEncoder()\n",
    "s_train_set[\"job_position\"] = job_encoder.fit_transform(train_set[\"job_position\"])\n",
    "\n",
    "# credit_sum Преобразуем строки к float и заполним NaN средним значением по выборке\n",
    "s_train_set[\"credit_sum\"] = train_set[\"credit_sum\"].str.replace(',', '.').astype('float')\n",
    "\n",
    "fill_empty(s_train_set[\"credit_sum\"])\n",
    "\n",
    "# score_shk Возможен категориальный признак. Всего 31 значение\n",
    "\n",
    "s_train_set[\"score_shk\"] = s_train_set[\"score_shk\"].str.replace(',', '.').astype('float64')\n",
    "fill_empty(s_train_set[\"score_shk\"])\n",
    "\n",
    "# education\n",
    "s_train_set[\"education\"].fillna(s_train_set[\"education\"].describe().top, inplace=True)\n",
    "education_encoder = preprocessing.LabelEncoder()\n",
    "s_train_set[\"education\"] = education_encoder.fit_transform(s_train_set[\"education\"])\n",
    "\n",
    "# living_region 192 пропущенных значения\n",
    "s_train_set[\"living_region\"].fillna(s_train_set[\"living_region\"].describe().top, inplace=True)\n",
    "location_encoder = preprocessing.LabelEncoder()\n",
    "s_train_set[\"living_region\"] = education_encoder.fit_transform((s_train_set[\"living_region\"]))\n",
    "\n",
    "#monthly_income Было бы неплохо взять среднюю зп из людей из той же специальности и локации. Ну или близко к локации nan\n",
    "\n",
    "fill_empty(s_train_set[\"monthly_income\"], True)\n",
    "\n",
    "# credit_count 9230 пропущенных значений То же самое что и с income. Надо взять всех похожих людей и засетать им те же значения\n",
    "fill_empty(s_train_set[\"credit_count\"], True)\n",
    "\n",
    "# Overdue Credit Count 9230 пропущенных значений\n",
    "# То же самое что и с income. Надо взять всех похожих людей и засетать им те же значения\n",
    "# Нельзя сетать среднее значение, так как overdue_credit_count может быть больше чем credit_count\n",
    "fill_empty(s_train_set[\"overdue_credit_count\"], True)"
   ],
   "metadata": {
    "collapsed": false,
    "pycharm": {
     "name": "#%%\n",
     "is_executing": false
    }
   }
  },
  {
   "cell_type": "code",
   "execution_count": 225,
   "outputs": [
    {
     "name": "stderr",
     "text": [
      "/home/vlad/dev/data-science-tasks/venv/lib/python3.7/site-packages/sklearn/utils/validation.py:724: DataConversionWarning: A column-vector y was passed when a 1d array was expected. Please change the shape of y to (n_samples, ), for example using ravel().\n  y = column_or_1d(y, warn=True)\n",
      "/home/vlad/dev/data-science-tasks/venv/lib/python3.7/site-packages/sklearn/metrics/classification.py:1437: UndefinedMetricWarning: Precision and F-score are ill-defined and being set to 0.0 in labels with no predicted samples.\n  'precision', 'predicted', average, warn_for)\n"
     ],
     "output_type": "stream"
    },
    {
     "name": "stdout",
     "text": [
      "              precision    recall  f1-score   support\n\n           0       0.82      1.00      0.90     98560\n           1       0.00      0.00      0.00     20963\n\n    accuracy                           0.82    119523\n   macro avg       0.41      0.50      0.45    119523\nweighted avg       0.68      0.82      0.75    119523\n\n"
     ],
     "output_type": "stream"
    }
   ],
   "source": [
    "from sklearn.linear_model import LogisticRegression\n",
    "from sklearn.model_selection import train_test_split\n",
    "from sklearn.metrics import classification_report\n",
    "\n",
    "s_train_set.head()\n",
    "\n",
    "X_train, X_test, y_train, y_test = train_test_split(s_train_set, target_set, test_size=0.7)\n",
    "\n",
    "clf = LogisticRegression(solver='lbfgs').fit(X_train, y_train);\n",
    "\n",
    "predictions = clf.predict(X_test)\n",
    "\n",
    "list(filter(lambda x: x == True, predictions))\n",
    "#  \n",
    "print(classification_report(y_test, predictions))"
   ],
   "metadata": {
    "collapsed": false,
    "pycharm": {
     "name": "#%%\n",
     "is_executing": false
    }
   }
  }
 ],
 "metadata": {
  "kernelspec": {
   "display_name": "Python 3",
   "language": "python",
   "name": "python3"
  },
  "language_info": {
   "codemirror_mode": {
    "name": "ipython",
    "version": 3
   },
   "file_extension": ".py",
   "mimetype": "text/x-python",
   "name": "python",
   "nbconvert_exporter": "python",
   "pygments_lexer": "ipython3",
   "version": "3.7.3"
  },
  "pycharm": {
   "stem_cell": {
    "cell_type": "raw",
    "source": [],
    "metadata": {
     "collapsed": false
    }
   }
  }
 },
 "nbformat": 4,
 "nbformat_minor": 1
}