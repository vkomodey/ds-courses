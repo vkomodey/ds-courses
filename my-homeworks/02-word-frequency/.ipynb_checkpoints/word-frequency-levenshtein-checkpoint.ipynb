{
 "cells": [
  {
   "cell_type": "markdown",
   "metadata": {
    "pycharm": {
     "is_executing": false
    }
   },
   "source": [
    "## Задание\n",
    "Загрузить текст в память и по какому-нибудь признаку посчитать частоты слов, входящих в текст. Построить гистограмму частот\n"
   ]
  },
  {
   "cell_type": "markdown",
   "metadata": {},
   "source": [
    "Был выбран текст \"Маленький Принц\". Он не совсем большой, но и не такой маленький. Так как алгоритм работает за $O(n^2)$, то более\n",
    "большие тексты(такие как Гарри Поттер) выполнялись совем уж неприличное время"
   ]
  },
  {
   "cell_type": "code",
   "execution_count": null,
   "metadata": {},
   "outputs": [],
   "source": [
    "import matplotlib\n",
    "import numpy as np\n",
    "import pandas as pd\n",
    "import Levenshtein as Lev\n",
    "import re\n",
    "\n",
    "pd.set_option('display.max_rows', 100)\n",
    "\n",
    "tokens = None\n",
    "with open('./little-prince', 'r') as f:\n",
    "    text = f.read().strip()"
   ]
  },
  {
   "cell_type": "code",
   "execution_count": null,
   "metadata": {},
   "outputs": [],
   "source": [
    "Тек"
   ]
  },
  {
   "cell_type": "code",
   "execution_count": 3,
   "metadata": {
    "pycharm": {
     "is_executing": false
    }
   },
   "outputs": [],
   "source": [
    "tokens = re.split(r'[\\n\\r\\s\\.,\\'\\\"\\(\\):\\!\\?\\+\\d]+', text)\n",
    "\n",
    "def are_similar(w1, w2):\n",
    "    max_length = max(len(w1), len(w2))\n",
    "    \n",
    "    if Lev.distance(w1, w2) < max_length // 4:\n",
    "        return True\n",
    "    return False"
   ]
  },
  {
   "cell_type": "code",
   "execution_count": 4,
   "metadata": {
    "pycharm": {
     "is_executing": false
    }
   },
   "outputs": [],
   "source": [
    "tokens = list(filter(lambda x: len(x) > 4, tokens))"
   ]
  },
  {
   "cell_type": "code",
   "execution_count": 5,
   "metadata": {
    "pycharm": {
     "is_executing": false
    }
   },
   "outputs": [],
   "source": [
    "frequency_map = dict(zip(tokens, np.ones(len(tokens), dtype='int')))"
   ]
  },
  {
   "cell_type": "code",
   "execution_count": 6,
   "metadata": {
    "pycharm": {
     "is_executing": false
    }
   },
   "outputs": [
    {
     "name": "stdout",
     "output_type": "stream",
     "text": [
      "24.743939638137817\n"
     ]
    }
   ],
   "source": [
    "import time\n",
    "start = time.time()\n",
    "\n",
    "for token in tokens:\n",
    "    if len(token) <= 4 or token.isnumeric():\n",
    "        continue\n",
    "\n",
    "    frequency_map[token] += 1\n",
    "\n",
    "    for f_word in tokens:\n",
    "        if f_word == token:\n",
    "            continue\n",
    "\n",
    "        if are_similar(token, f_word):\n",
    "            frequency_map[f_word] = 1\n",
    "            \n",
    "end = time.time()\n",
    "print(end - start)"
   ]
  },
  {
   "cell_type": "code",
   "execution_count": 7,
   "metadata": {
    "pycharm": {
     "is_executing": false
    }
   },
   "outputs": [
    {
     "data": {
      "text/html": [
       "<div>\n",
       "<style scoped>\n",
       "    .dataframe tbody tr th:only-of-type {\n",
       "        vertical-align: middle;\n",
       "    }\n",
       "\n",
       "    .dataframe tbody tr th {\n",
       "        vertical-align: top;\n",
       "    }\n",
       "\n",
       "    .dataframe thead th {\n",
       "        text-align: right;\n",
       "    }\n",
       "</style>\n",
       "<table border=\"1\" class=\"dataframe\">\n",
       "  <thead>\n",
       "    <tr style=\"text-align: right;\">\n",
       "      <th></th>\n",
       "      <th>Frequency</th>\n",
       "    </tr>\n",
       "  </thead>\n",
       "  <tbody>\n",
       "    <tr>\n",
       "      <th>принц</th>\n",
       "      <td>155</td>\n",
       "    </tr>\n",
       "    <tr>\n",
       "      <th>сказал</th>\n",
       "      <td>114</td>\n",
       "    </tr>\n",
       "    <tr>\n",
       "      <th>очень</th>\n",
       "      <td>75</td>\n",
       "    </tr>\n",
       "    <tr>\n",
       "      <th>когда</th>\n",
       "      <td>54</td>\n",
       "    </tr>\n",
       "    <tr>\n",
       "      <th>только</th>\n",
       "      <td>42</td>\n",
       "    </tr>\n",
       "  </tbody>\n",
       "</table>\n",
       "</div>"
      ],
      "text/plain": [
       "        Frequency\n",
       "принц         155\n",
       "сказал        114\n",
       "очень          75\n",
       "когда          54\n",
       "только         42"
      ]
     },
     "execution_count": 7,
     "metadata": {},
     "output_type": "execute_result"
    }
   ],
   "source": [
    "df = pd.DataFrame({\n",
    "    \"Frequency\": list(frequency_map.values()),\n",
    "}, index=list(frequency_map.keys()))\n",
    "\n",
    "df.sort_values(by=['Frequency'], ascending=False, inplace=True)\n",
    "df.head()\n"
   ]
  },
  {
   "cell_type": "code",
   "execution_count": 15,
   "metadata": {
    "pycharm": {
     "is_executing": false,
     "name": "#%%\n"
    }
   },
   "outputs": [
    {
     "data": {
      "image/png": "[encoded data removed]",
      "text/plain": [
       "<Figure size 1000x1000 with 1 Axes>"
      ]
     },
     "metadata": {},
     "output_type": "display_data"
    }
   ],
   "source": [
    "# https://pythonspot.com/matplotlib-bar-chart/\n",
    "import matplotlib.pyplot as plt; plt.rcdefaults()\n",
    "matplotlib.rcParams['figure.figsize'] = [10, 10]\n",
    "\n",
    "N = 10\n",
    "objects = list(df.index)[:N]\n",
    "y_pos = df['Frequency'].values[:N]\n",
    "\n",
    "ax = plt.bar(objects,y_pos, width=(3+N)/N, align='center')\n",
    "\n",
    "# ax.set_xlabel('Words')\n",
    "# ax.set_ylabel('Frequency by Leveinshtein distance')\n",
    "plt.show()"
   ]
  }
 ],
 "metadata": {
  "kernelspec": {
   "display_name": "Python 3",
   "language": "python",
   "name": "python3"
  },
  "language_info": {
   "codemirror_mode": {
    "name": "ipython",
    "version": 3
   },
   "file_extension": ".py",
   "mimetype": "text/x-python",
   "name": "python",
   "nbconvert_exporter": "python",
   "pygments_lexer": "ipython3",
   "version": "3.7.3"
  },
  "pycharm": {
   "stem_cell": {
    "cell_type": "raw",
    "metadata": {
     "collapsed": false
    },
    "source": []
   }
  }
 },
 "nbformat": 4,
 "nbformat_minor": 2
}
