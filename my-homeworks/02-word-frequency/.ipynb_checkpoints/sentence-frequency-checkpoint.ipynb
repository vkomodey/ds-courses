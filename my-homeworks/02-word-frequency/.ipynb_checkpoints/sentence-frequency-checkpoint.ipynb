{
 "cells": [
  {
   "cell_type": "markdown",
   "metadata": {
    "pycharm": {
     "is_executing": false
    }
   },
   "source": [
    "Задание: посчитать длины предложений и построить гистограмму длин"
   ]
  },
  {
   "cell_type": "code",
   "execution_count": 2,
   "metadata": {},
   "outputs": [],
   "source": [
    "import numpy as np\n",
    "import pandas as pd\n",
    "import re\n",
    "\n",
    "pd.set_option('display.max_rows', 100)\n",
    "\n",
    "with open('./little-prince', 'r') as f:\n",
    "    text = f.read().strip()"
   ]
  },
  {
   "cell_type": "code",
   "execution_count": 4,
   "metadata": {
    "pycharm": {
     "is_executing": false
    }
   },
   "outputs": [],
   "source": [
    "sentences = re.split(r'[\\.\\!\\?]+', text)\n",
    "\n",
    "sentences = list(filter(lambda x: len(x) > 4, sentences))"
   ]
  },
  {
   "cell_type": "code",
   "execution_count": 5,
   "metadata": {
    "pycharm": {
     "is_executing": false
    }
   },
   "outputs": [],
   "source": [
    "lengthes = map(lambda x: len(x), sentences)           \n",
    "\n",
    "lengthes = np.fromiter(lengthes, dtype='int')"
   ]
  },
  {
   "cell_type": "code",
   "execution_count": 7,
   "metadata": {
    "pycharm": {
     "is_executing": false,
     "name": "#%%\n"
    }
   },
   "outputs": [
    {
     "data": {
      "image/png": "[encoded data removed]",
      "text/plain": [
       "<Figure size 432x288 with 1 Axes>"
      ]
     },
     "metadata": {
      "needs_background": "light"
     },
     "output_type": "display_data"
    }
   ],
   "source": [
    "ds = pd.Series(lengthes)\n",
    "\n",
    "axis = ds.hist(yrot=90, width=4, bins=50);\n",
    "axis.set_xticks(np.arange(0, 360, 20));\n",
    "axis.set_yticks(np.arange(0, 220, 10));\n",
    "\n",
    "axis.set_xlabel('Sentence Length - L');\n",
    "axis.set_ylabel('Frequency of L');"
   ]
  }
 ],
 "metadata": {
  "kernelspec": {
   "display_name": "Python 3",
   "language": "python",
   "name": "python3"
  },
  "language_info": {
   "codemirror_mode": {
    "name": "ipython",
    "version": 3
   },
   "file_extension": ".py",
   "mimetype": "text/x-python",
   "name": "python",
   "nbconvert_exporter": "python",
   "pygments_lexer": "ipython3",
   "version": "3.7.3"
  },
  "pycharm": {
   "stem_cell": {
    "cell_type": "raw",
    "metadata": {
     "collapsed": false
    },
    "source": []
   }
  }
 },
 "nbformat": 4,
 "nbformat_minor": 2
}
