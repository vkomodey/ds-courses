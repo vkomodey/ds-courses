{
 "cells": [
  {
   "cell_type": "markdown",
   "metadata": {},
   "source": [
    "#  1.\tВступительные слова"
   ]
  },
  {
   "cell_type": "markdown",
   "metadata": {},
   "source": [
    "В начале подготовки курса стоял выбор: либо рассказать необ¬ходимую математику по ходу изложения курса или же сделать отдельный подготовительный курс. Был принят первый вариант, а именно рассказать основы линейной алгебры, математического анализа и программирования на языке Python одновременно. Причем математические концепции в данном курсе будут приводится, как правило, сразу на наглядных практических примерах."
   ]
  },
  {
   "cell_type": "markdown",
   "metadata": {},
   "source": [
    "# 2.\tИстория Python"
   ]
  },
  {
   "cell_type": "markdown",
   "metadata": {},
   "source": [
    "История языка Python начинается в 1980-х годах, когда Гвидо ван Россум, сотрудник центра математики и информатики в Нидерландах, приступил к созданию его первой версии. И до сих пор «Гвидо ван Россум» остается «великодушным пожизненным диктатором»1.\n",
    "К данному моменту были выпущены уже три версии языка – Python 1, Python 2, Python 3, причем первые две из них обратно совместимы, a Python 3 и Python 2 – уже нет. Это связано с тем, что те улучшения, которые были сделаны в Python 3, невозможно внести без нарушения обратной совместимости. Официально поддерживаются обе версии: Python 3 – это будущее языка, более современная версия, a Python 2 поддержи¬вается до сих пор из-за огромного количества наработок, которые еще не были перенесены на более свежую версию.\n",
    "Следует особо отметить, что Python выпускается под свободной лицензией «Python Software Foundation License», разрешающей использовать исходный код проекта не только в открытом, но и в коммерческом программном обеспечении. Python работает почти на всех известных платформах. Существуют версии для MS Windows, Linux, Mac OS, FreeBSD и так далее.\n",
    "Также привлекательной стороной Python является богатая стандартная библиотека. В нее входят, например, модуль для работы с текстом в различных кодировках и модуль для работы с регулярными выражени¬ями. Кроме стандартной библиотеки, доступны: библиотека matplotlib для построения графиков функций, pandas – для работы с электронными таблицами и scipy – для научных и инженерных расчетов.\n",
    "Язык Python отличается лаконичным синтаксисом, поэтому на нем и читать чужой код, и писать свой очень просто. Разработчики языка придерживаются философии, называемой «The Zen of Python», текст которой на английском языке выводится интерпретатором по команде import this. Ниже представлена часть текста, переведенная на русский язык:\n",
    "-\tКрасивое лучше, чем уродливое.\n",
    "-\tПростое лучше, чем сложное.\n",
    "-\tЧитаемость имеет значение.\n",
    "-\tОшибки никогда не должны замалчиваться.\n",
    "-\tСейчас лучше, чем никогда.\n",
    "-\tХотя никогда зачастую лучше, чем прямо сейчас.\n",
    "-\tЕсли реализацию сложно объяснить – идея плоха.\n",
    "-\tЕсли реализацию легко объяснить – идея, возможно, хороша.\n",
    "\n",
    "Python был выбирается в качестве основного языка программирования для нашего курса  по многим причинам. Вот некоторые из них:\n",
    "\n",
    "-\tPython – свободное ПО.\n",
    "-\tPython доступен практически на всех платформах.\n",
    "-\tPython прост в изучении.\n",
    "-\tPython можно использовать в интерактивном режиме.\n",
    "-\tPython имеет большое сообщество пользователей и разработчиков.\n",
    "-\tДля Python доступно огромное число библиотек. При этом богатый набор функций имеется в стандарт¬ной библиотеке.\n"
   ]
  },
  {
   "cell_type": "markdown",
   "metadata": {},
   "source": [
    "# 3. Установка Python"
   ]
  },
  {
   "cell_type": "markdown",
   "metadata": {},
   "source": [
    "Установить Python не сложно, и существует огромное количество способов, как это сделать. Для целей де-монстрации, установка Python в составе дистрибутива Anaconda будет произведена на операционной системе Linux.\n",
    "Сначала с сайта https://www.anaconda.com/download/ нужно скачать установочный файл для используемой Вами операционной системы и следовать указаниям. Согласно инструкции для Linux, необходимо открыть терминал и выполнить команду bash Anaconda2-2.4. l-Linux-x86_64. sh (точное название файла может отличаться). Вам будет предложено ознакомиться с лицензией и указать директорию для установки. Также в процессе установки будет предложено внести изменения в файл bash.rc, чтобы выбрать только что установленный Python в качестве используемого по умолчанию. Для того, чтобы эти изменения вступили в силу, необходимо закрыть текущую сессию (окно терминала) и запустить новую.\n",
    "Запустить интерактивную оболочку IPython можно с помощью команды ipython notebook. В результате исполнения этой команды IPython должен открыться в новой вкладке браузера.\n"
   ]
  },
  {
   "cell_type": "markdown",
   "metadata": {},
   "source": [
    "# 4. Знакомство с IPython"
   ]
  },
  {
   "cell_type": "markdown",
   "metadata": {},
   "source": [
    "После запуска IPython в браузере откроется страница со списком файлов рабочего каталога. С помощью кнопки «new» можно создать новый файл типа «IPython notebook». При создании файл откроется в новой вкладке, где сразу же можно будет указать для него название, а в рабочем каталоге появляется файл с расширением . ipynb.\n",
    "Главное меню программы интуитивно понятно. Особо стоит отметить, что существует возможность экспор-тировать текущую тетрадь в виде файла .ру, результаты расчетов – в виде HTML или PDF. Соответствующие команды расположены в подменю «Download As» меню «File».\n",
    "Интерфейс тетради IPython основан на работе с ячейками. Их можно создавать, перемещать, редактиро¬вать и исполнять находящийся в них код с помощью соответствующих команд на панели инструментов или в главном меню тетради.\n",
    "Традиционно изучение языков программирования начинается с написания программы «Hello, world!». Функцию print можно использовать для вывода на экран переменных любого типа:\n"
   ]
  },
  {
   "cell_type": "code",
   "execution_count": 25,
   "metadata": {},
   "outputs": [
    {
     "name": "stdout",
     "output_type": "stream",
     "text": [
      "Hello, world!\n"
     ]
    }
   ],
   "source": [
    "t = 'Hello, world!'\n",
    "print(t)"
   ]
  },
  {
   "cell_type": "markdown",
   "metadata": {},
   "source": [
    "<center> В IPython значение переменной или выражения также выводится на экран, даже если опустить print. Это, а также богатые математические возможности I Python, позволяет использовать I Python в качестве удобного калькулятора. При этом, если используется ядро Python 2, деление двух целых чисел является целочисленным делением, то есть результатом всегда является целое число. Если же или делимое, или делитель являются числом с плавающей точкой, результат также будет числом с плавающей точкой, а деление будет пониматься в обычном смысле. Например:"
   ]
  },
  {
   "cell_type": "markdown",
   "metadata": {},
   "source": [
    "$$\\int_{x=0}^x f(x) + \\sum_{n=0}^\\inf(x)$$"
   ]
  },
  {
   "cell_type": "code",
   "execution_count": 11,
   "metadata": {},
   "outputs": [
    {
     "name": "stdout",
     "output_type": "stream",
     "text": [
      "8.333333333333334\n",
      "8.333333333333334\n",
      "8.333333\n"
     ]
    }
   ],
   "source": [
    "print(100 /12)\n",
    "print(100./12)\n",
    "print(round(100./12,6))"
   ]
  },
  {
   "cell_type": "markdown",
   "metadata": {},
   "source": [
    "Здесь была использована функция round, которая используется для округления выражения в её первом аргументе с точностью до числа знаков после запятой, задаваемой её вторым аргументов.\n",
    "Если требуемая математическая функция не доступна по умолчанию, существует два пути: либо реализовать нужную функцию самостоятельно, либо подключить библиотеку, в которой содержится необходимая функция, с помощью команды from <library> import <function>. Функцию factorial из библиотеки math можно добавить с помощью следующего кода:"
   ]
  },
  {
   "cell_type": "code",
   "execution_count": 14,
   "metadata": {},
   "outputs": [
    {
     "data": {
      "text/plain": [
       "6"
      ]
     },
     "execution_count": 14,
     "metadata": {},
     "output_type": "execute_result"
    }
   ],
   "source": [
    "from math import factorial\n",
    "factorial(3) "
   ]
  },
  {
   "cell_type": "markdown",
   "metadata": {},
   "source": [
    "Кроме ячеек с кодом на Python, в тетрадь можно добавлять ячейки других типов. Для этого необходимо поменять тип ячейки. Это можно сделать в выпадающем списке в панели инструментов. Тип «Markdown» используется для набора текста на одноименном языке разметки:"
   ]
  },
  {
   "cell_type": "markdown",
   "metadata": {},
   "source": [
    "Создание заголовков производится путём помещения знака решетки перед текстом заголовка.\n",
    "- Количество знаков «##» соответствует уровню заголовка.\n",
    "- Внутри ```$$ ... $$``` можно набирать математические формулы используя LaTeX.\n",
    "- Более подробное описание доступно на странице википедии https://ru.wikipedia.org/wiki/Markdown."
   ]
  },
  {
   "cell_type": "markdown",
   "metadata": {},
   "source": [
    "Если отправить ячейку типа «Markdown» на исполнение, вместо кода разметки появится отформатированный\n",
    "текст.\n",
    "На Unix-подобных операционных системах код ячейки можно выполнять в интерпретаторе  командной строки bash. В случае однострочных команд достаточно набрать перед этой командой символ восклицательного знака, а имена переменных IPython начинать с символа доллара:"
   ]
  },
  {
   "cell_type": "code",
   "execution_count": 28,
   "metadata": {},
   "outputs": [
    {
     "name": "stdout",
     "output_type": "stream",
     "text": [
      "$t\n"
     ]
    },
    {
     "data": {
      "application/json": {
       "cell": {
        "!": "OSMagics",
        "HTML": "Other",
        "SVG": "Other",
        "bash": "Other",
        "capture": "ExecutionMagics",
        "cmd": "Other",
        "debug": "ExecutionMagics",
        "file": "Other",
        "html": "DisplayMagics",
        "javascript": "DisplayMagics",
        "js": "DisplayMagics",
        "latex": "DisplayMagics",
        "markdown": "DisplayMagics",
        "perl": "Other",
        "prun": "ExecutionMagics",
        "pypy": "Other",
        "python": "Other",
        "python2": "Other",
        "python3": "Other",
        "ruby": "Other",
        "script": "ScriptMagics",
        "sh": "Other",
        "svg": "DisplayMagics",
        "sx": "OSMagics",
        "system": "OSMagics",
        "time": "ExecutionMagics",
        "timeit": "ExecutionMagics",
        "writefile": "OSMagics"
       },
       "line": {
        "alias": "OSMagics",
        "alias_magic": "BasicMagics",
        "autoawait": "AsyncMagics",
        "autocall": "AutoMagics",
        "automagic": "AutoMagics",
        "autosave": "KernelMagics",
        "bookmark": "OSMagics",
        "cd": "OSMagics",
        "clear": "KernelMagics",
        "cls": "KernelMagics",
        "colors": "BasicMagics",
        "config": "ConfigMagics",
        "connect_info": "KernelMagics",
        "copy": "Other",
        "ddir": "Other",
        "debug": "ExecutionMagics",
        "dhist": "OSMagics",
        "dirs": "OSMagics",
        "doctest_mode": "BasicMagics",
        "echo": "Other",
        "ed": "Other",
        "edit": "KernelMagics",
        "env": "OSMagics",
        "gui": "BasicMagics",
        "hist": "Other",
        "history": "HistoryMagics",
        "killbgscripts": "ScriptMagics",
        "ldir": "Other",
        "less": "KernelMagics",
        "load": "CodeMagics",
        "load_ext": "ExtensionMagics",
        "loadpy": "CodeMagics",
        "logoff": "LoggingMagics",
        "logon": "LoggingMagics",
        "logstart": "LoggingMagics",
        "logstate": "LoggingMagics",
        "logstop": "LoggingMagics",
        "ls": "Other",
        "lsmagic": "BasicMagics",
        "macro": "ExecutionMagics",
        "magic": "BasicMagics",
        "matplotlib": "PylabMagics",
        "mkdir": "Other",
        "more": "KernelMagics",
        "notebook": "BasicMagics",
        "page": "BasicMagics",
        "pastebin": "CodeMagics",
        "pdb": "ExecutionMagics",
        "pdef": "NamespaceMagics",
        "pdoc": "NamespaceMagics",
        "pfile": "NamespaceMagics",
        "pinfo": "NamespaceMagics",
        "pinfo2": "NamespaceMagics",
        "pip": "BasicMagics",
        "popd": "OSMagics",
        "pprint": "BasicMagics",
        "precision": "BasicMagics",
        "prun": "ExecutionMagics",
        "psearch": "NamespaceMagics",
        "psource": "NamespaceMagics",
        "pushd": "OSMagics",
        "pwd": "OSMagics",
        "pycat": "OSMagics",
        "pylab": "PylabMagics",
        "qtconsole": "KernelMagics",
        "quickref": "BasicMagics",
        "recall": "HistoryMagics",
        "rehashx": "OSMagics",
        "reload_ext": "ExtensionMagics",
        "ren": "Other",
        "rep": "Other",
        "rerun": "HistoryMagics",
        "reset": "NamespaceMagics",
        "reset_selective": "NamespaceMagics",
        "rmdir": "Other",
        "run": "ExecutionMagics",
        "save": "CodeMagics",
        "sc": "OSMagics",
        "set_env": "OSMagics",
        "store": "StoreMagics",
        "sx": "OSMagics",
        "system": "OSMagics",
        "tb": "ExecutionMagics",
        "time": "ExecutionMagics",
        "timeit": "ExecutionMagics",
        "unalias": "OSMagics",
        "unload_ext": "ExtensionMagics",
        "who": "NamespaceMagics",
        "who_ls": "NamespaceMagics",
        "whos": "NamespaceMagics",
        "xdel": "NamespaceMagics",
        "xmode": "BasicMagics"
       }
      },
      "text/plain": [
       "Available line magics:\n",
       "%alias  %alias_magic  %autoawait  %autocall  %automagic  %autosave  %bookmark  %cd  %clear  %cls  %colors  %config  %connect_info  %copy  %ddir  %debug  %dhist  %dirs  %doctest_mode  %echo  %ed  %edit  %env  %gui  %hist  %history  %killbgscripts  %ldir  %less  %load  %load_ext  %loadpy  %logoff  %logon  %logstart  %logstate  %logstop  %ls  %lsmagic  %macro  %magic  %matplotlib  %mkdir  %more  %notebook  %page  %pastebin  %pdb  %pdef  %pdoc  %pfile  %pinfo  %pinfo2  %popd  %pprint  %precision  %prun  %psearch  %psource  %pushd  %pwd  %pycat  %pylab  %qtconsole  %quickref  %recall  %rehashx  %reload_ext  %ren  %rep  %rerun  %reset  %reset_selective  %rmdir  %run  %save  %sc  %set_env  %store  %sx  %system  %tb  %time  %timeit  %unalias  %unload_ext  %who  %who_ls  %whos  %xdel  %xmode\n",
       "\n",
       "Available cell magics:\n",
       "%%!  %%HTML  %%SVG  %%bash  %%capture  %%cmd  %%debug  %%file  %%html  %%javascript  %%js  %%latex  %%markdown  %%perl  %%prun  %%pypy  %%python  %%python2  %%python3  %%ruby  %%script  %%sh  %%svg  %%sx  %%system  %%time  %%timeit  %%writefile\n",
       "\n",
       "Automagic is ON, % prefix IS NOT needed for line magics."
      ]
     },
     "execution_count": 28,
     "metadata": {},
     "output_type": "execute_result"
    }
   ],
   "source": [
    "!echo $t\n",
    "%lsmagic"
   ]
  },
  {
   "cell_type": "markdown",
   "metadata": {},
   "source": [
    "Многострочные инструкции командной строки набираются с помощью «bash magic»: на первой строке набирают %%bash, а на следующих – желаемый скрипт командной строки. На самом деле IPython предоставляет и другие «магические команды», полный список которых можно получить набрав в ячейке ```%lsmagic```. Среди команд, представленных в ```%lsmagic```, есть команда, позволяющая рисовать графики прямо внутри тетради IPython:"
   ]
  },
  {
   "cell_type": "markdown",
   "metadata": {},
   "source": [
    "``` %pylab inline ```"
   ]
  },
  {
   "cell_type": "markdown",
   "metadata": {},
   "source": [
    "Простейший пример построения графика :"
   ]
  },
  {
   "cell_type": "code",
   "execution_count": 70,
   "metadata": {},
   "outputs": [
    {
     "ename": "ModuleNotFoundError",
     "evalue": "No module named 'plotly'",
     "output_type": "error",
     "traceback": [
      "\u001b[0;31m---------------------------------------------------------------------------\u001b[0m",
      "\u001b[0;31mModuleNotFoundError\u001b[0m                       Traceback (most recent call last)",
      "\u001b[0;32m<ipython-input-70-449ba348cb00>\u001b[0m in \u001b[0;36m<module>\u001b[0;34m\u001b[0m\n\u001b[0;32m----> 1\u001b[0;31m \u001b[0;32mimport\u001b[0m \u001b[0mplotly\u001b[0m\u001b[0;34m.\u001b[0m\u001b[0mgraph_objects\u001b[0m \u001b[0;32mas\u001b[0m \u001b[0mgo\u001b[0m\u001b[0;34m\u001b[0m\u001b[0;34m\u001b[0m\u001b[0m\n\u001b[0m\u001b[1;32m      2\u001b[0m \u001b[0;32mimport\u001b[0m \u001b[0mnumpy\u001b[0m \u001b[0;32mas\u001b[0m \u001b[0mnp\u001b[0m\u001b[0;34m\u001b[0m\u001b[0;34m\u001b[0m\u001b[0m\n\u001b[1;32m      3\u001b[0m \u001b[0;34m\u001b[0m\u001b[0m\n\u001b[1;32m      4\u001b[0m \u001b[0mx\u001b[0m \u001b[0;34m=\u001b[0m \u001b[0mnp\u001b[0m\u001b[0;34m.\u001b[0m\u001b[0mlin\u001b[0m\u001b[0;34m\u001b[0m\u001b[0;34m\u001b[0m\u001b[0m\n\u001b[1;32m      5\u001b[0m \u001b[0mgo\u001b[0m\u001b[0;34m.\u001b[0m\u001b[0mFigure\u001b[0m\u001b[0;34m(\u001b[0m\u001b[0mdata\u001b[0m\u001b[0;34m=\u001b[0m\u001b[0mgo\u001b[0m\u001b[0;34m.\u001b[0m\u001b[0mScatter\u001b[0m\u001b[0;34m(\u001b[0m\u001b[0my\u001b[0m\u001b[0;34m=\u001b[0m\u001b[0mnp\u001b[0m\u001b[0;34m.\u001b[0m\u001b[0mcos\u001b[0m\u001b[0;34m(\u001b[0m\u001b[0mnp\u001b[0m\u001b[0;34m.\u001b[0m\u001b[0marange\u001b[0m\u001b[0;34m(\u001b[0m\u001b[0;36m1\u001b[0m\u001b[0;34m,\u001b[0m \u001b[0;36m20\u001b[0m\u001b[0;34m,\u001b[0m \u001b[0;36m0.2\u001b[0m\u001b[0;34m)\u001b[0m\u001b[0;34m)\u001b[0m\u001b[0;34m)\u001b[0m\u001b[0;34m)\u001b[0m\u001b[0;34m\u001b[0m\u001b[0;34m\u001b[0m\u001b[0m\n",
      "\u001b[0;31mModuleNotFoundError\u001b[0m: No module named 'plotly'"
     ]
    }
   ],
   "source": [
    "import plotly.graph_objects as go\n",
    "import numpy as np\n",
    "\n",
    "x = np.lin\n",
    "go.Figure(data=go.Scatter(y=np.cos(np.arange(1, 20, 0.2))))"
   ]
  },
  {
   "cell_type": "code",
   "execution_count": null,
   "metadata": {},
   "outputs": [],
   "source": [
    "!conda install -c conda-forge jupyter_nbextensions_configurator"
   ]
  },
  {
   "cell_type": "code",
   "execution_count": null,
   "metadata": {},
   "outputs": [],
   "source": [
    "у = range (11)      # массив чисел от 0 до 10 \n",
    "у                   # OUT: [0,1,2,3,4,5,6,7,8,9,10]\n",
    "plot (у)            # ГРАФИК\n"
   ]
  },
  {
   "cell_type": "markdown",
   "metadata": {},
   "source": [
    "# Программирование на Python"
   ]
  },
  {
   "cell_type": "markdown",
   "metadata": {},
   "source": [
    "Настало время познакомиться с типами данных в Python. Числовые типы ```int```  и  ```float``` уже были упомянуты ранее:"
   ]
  },
  {
   "cell_type": "markdown",
   "metadata": {},
   "source": [
    "```\n",
    "У = 4\n",
    "print type(у) \n",
    "```"
   ]
  },
  {
   "cell_type": "markdown",
   "metadata": {},
   "source": [
    "С помощью функции ```type``` можно узнать код произвольного объекта. Строки, например, могут быть двух типов:"
   ]
  },
  {
   "cell_type": "code",
   "execution_count": 1,
   "metadata": {},
   "outputs": [
    {
     "name": "stdout",
     "output_type": "stream",
     "text": [
      "asd\n"
     ]
    }
   ],
   "source": [
    "x = 3.5\n",
    "type(x)\n",
    "if x:\n",
    "    "
   ]
  },
  {
   "cell_type": "markdown",
   "metadata": {},
   "source": [
    "```y = 4\n",
    "type (y)```\n"
   ]
  },
  {
   "cell_type": "markdown",
   "metadata": {},
   "source": [
    "С помощью функции type можно узнать код произвольного объекта. Строки, например, могут быть двух типов:"
   ]
  },
  {
   "cell_type": "markdown",
   "metadata": {},
   "source": [
    "```print type (\"abs\")\n",
    "print type(u\"abs\")```"
   ]
  },
  {
   "cell_type": "markdown",
   "metadata": {},
   "source": [
    "Отличия между ними будут подробнее обсуждаться позднее.\n",
    "Упорядоченный набор значений в Python можно представить с помощью списка:"
   ]
  },
  {
   "cell_type": "markdown",
   "metadata": {},
   "source": [
    "```w = [1, 2, 3]\n",
    " print type(w)```\n"
   ]
  },
  {
   "cell_type": "markdown",
   "metadata": {},
   "source": [
    "Списки в Python очень похожи на знакомые по другим языкам программирования массивы, но, в отличие от\n",
    "массивов, могут содержать элементы разных типов.\n",
    "Python является языком с утиной типизацией. В языках с динамической типизацией, частным случаем которой является утиная типизация, тип переменной определяется не в момент её объявления, а в момент присваивания значения. Следовательно, в разных участках кода переменная может принимать значения разных типов. В случае утиной типизации границы применимости объекта определяются не столько конкретным типом и иерархией наследования, сколько наличием и отсутствия у него определенных методов и свойств. Термин происходит от шуточного «утиного теста»: «Если нечто выглядит, плавает и крякает как утка, то это, вероятно, и есть утка».\n",
    "Другой способ представить упорядоченный набор значений состоит в определении кортежа (tuple). В Python кортежи записываются в круглых скобках:"
   ]
  },
  {
   "cell_type": "markdown",
   "metadata": {},
   "source": [
    "```print type ((1, 2, 3)) ``` "
   ]
  },
  {
   "cell_type": "markdown",
   "metadata": {},
   "source": [
    "Кортеж относится к так называемым неизменяемым типам данных, чем существенно отличается от списка. Попытка изменить кортеж или добавить в него еще один элемент приведет к возникновению ошибки. Эта особенность позволяет использовать кортежи в качестве ключей словаря.\n",
    "Неупорядоченный набор значений представим в виде множеств, которые записываются в фигурных скобках:"
   ]
  },
  {
   "cell_type": "markdown",
   "metadata": {},
   "source": [
    "Еще один тип данных, словарь, позволяет хранить в себе пары вида ключ-значение. Создать словарь можно с помощью конструктора dict():"
   ]
  },
  {
   "cell_type": "markdown",
   "metadata": {},
   "source": [
    "```e = dict()```"
   ]
  },
  {
   "cell_type": "markdown",
   "metadata": {},
   "source": [
    "```e[\"abc\"] = 4.5```"
   ]
  },
  {
   "cell_type": "markdown",
   "metadata": {},
   "source": [
    "Ключами в словаре могут быть не только строки. В качестве ключа допустимо использовать, например, числовые значения и кортежи:"
   ]
  },
  {
   "cell_type": "markdown",
   "metadata": {},
   "source": [
    "Приведите пример..."
   ]
  },
  {
   "cell_type": "markdown",
   "metadata": {},
   "source": [
    "Но использование списка в качестве ключа недопустимо, так как список является изменяемым.\n",
    "Синтаксис для чтения данных из словаря по ключу аналогичен синтаксису для получения данных по индексу списка. Грубо говоря, ключ есть обобщение понятия индекса списка: ключ может принимать значение произвольного хэшируемого типа. К слову, список не является хэшируемым, и именно поэтому не может быть выбран в качестве ключа.\n",
    "В Python словарь использует хэш-таблицы. Идея заключается в том, чтобы заменить сравнение ключей более быстрым сравнением их хэш-значений. В таком случае важно, чтобы все ключи были хэшируемы, то есть хэш-значение не менялось во время исполнения программы, а равные ключи-объекты имели одинаковое хэш-значение.\n",
    "Ранее было сказано, что множества являются изменяемыми объектами, а значит не могут выступать в роли ключей. Но в качестве ключей можно использовать неизменяемые множества, которые можно получить используя функцию frozenset():\n"
   ]
  },
  {
   "cell_type": "markdown",
   "metadata": {},
   "source": [
    "```s = frozenset((1,2,3))\n",
    " e[s] =3.76```"
   ]
  },
  {
   "cell_type": "markdown",
   "metadata": {},
   "source": [
    "# 2.\tСинтаксис языка Python"
   ]
  },
  {
   "cell_type": "markdown",
   "metadata": {},
   "source": [
    "В Python оператор условного перехода выглядит привычным образом. Например, пусть дан следующий код:"
   ]
  },
  {
   "cell_type": "markdown",
   "metadata": {},
   "source": [
    "```if x:\n",
    "    print (\"OK\")\n",
    "else:\n",
    "    print (\"NOT OK\")```"
   ]
  },
  {
   "cell_type": "markdown",
   "metadata": {},
   "source": [
    "Что на ваш взгляд выведет выполнение этой программы?"
   ]
  },
  {
   "cell_type": "markdown",
   "metadata": {},
   "source": [
    "В Python для выделения блоков кода используются отступы: отступы инструкций в пределах одного блока должны совпадать по величине."
   ]
  },
  {
   "cell_type": "markdown",
   "metadata": {},
   "source": [
    "Другой пример. Следующий код выводит числа от 0 до 9:"
   ]
  },
  {
   "cell_type": "code",
   "execution_count": 11,
   "metadata": {},
   "outputs": [
    {
     "data": {
      "text/plain": [
       "[0, 2, 4, 6, 8]"
      ]
     },
     "execution_count": 11,
     "metadata": {},
     "output_type": "execute_result"
    }
   ],
   "source": [
    "[i for i in range(10) if i % 2 ==0]"
   ]
  },
  {
   "cell_type": "markdown",
   "metadata": {},
   "source": [
    "При этом в ```range()``` можно указать начальное значение i. Например, вот этот код выводит числа от 1 до 9."
   ]
  },
  {
   "cell_type": "markdown",
   "metadata": {},
   "source": [
    "```for i in range(1,10):\n",
    "    print (i)```"
   ]
  },
  {
   "cell_type": "markdown",
   "metadata": {},
   "source": [
    "В Python 2 кроме функции ```range()``` существует и функция ```xrange()```, которую также можно использовать в\n",
    "цикле. Результат выполнения не отличается от такового при использовании ```range()```. При необходимости можно убедиться, что ```range``` и ```xrange``` возвращают объекты разных типов:"
   ]
  },
  {
   "cell_type": "markdown",
   "metadata": {},
   "source": [
    "```print (type(range(2,5)))```"
   ]
  },
  {
   "cell_type": "code",
   "execution_count": 12,
   "metadata": {},
   "outputs": [
    {
     "ename": "NameError",
     "evalue": "name 'xrange' is not defined",
     "output_type": "error",
     "traceback": [
      "\u001b[1;31m---------------------------------------------------------------------------\u001b[0m",
      "\u001b[1;31mNameError\u001b[0m                                 Traceback (most recent call last)",
      "\u001b[1;32m<ipython-input-12-ece63e4d12b7>\u001b[0m in \u001b[0;36m<module>\u001b[1;34m\u001b[0m\n\u001b[1;32m----> 1\u001b[1;33m \u001b[0mprint\u001b[0m \u001b[1;33m(\u001b[0m\u001b[0mtype\u001b[0m\u001b[1;33m(\u001b[0m\u001b[0mxrange\u001b[0m\u001b[1;33m(\u001b[0m\u001b[1;36m2\u001b[0m\u001b[1;33m,\u001b[0m\u001b[1;36m5\u001b[0m\u001b[1;33m)\u001b[0m\u001b[1;33m)\u001b[0m\u001b[1;33m)\u001b[0m\u001b[1;33m\u001b[0m\u001b[1;33m\u001b[0m\u001b[0m\n\u001b[0m",
      "\u001b[1;31mNameError\u001b[0m: name 'xrange' is not defined"
     ]
    }
   ],
   "source": [
    "print (type(xrange(2,5)))"
   ]
  },
  {
   "cell_type": "markdown",
   "metadata": {},
   "source": [
    " В Python версии 3.х функция ```range()``` ведет себя как ```xrange()``` во второй версии питона, а функция xrange() убрана вовсе."
   ]
  },
  {
   "cell_type": "markdown",
   "metadata": {},
   "source": [
    "В Python существует способ удобно и компактно задавать некоторые списки с помощью так называемого конструктора списка (анг. list comprehension.):"
   ]
  },
  {
   "cell_type": "markdown",
   "metadata": {},
   "source": [
    "```w = [ x ** 2 for x in range(1,11) ]\n",
    "print(w)\n",
    "print(type(w))```"
   ]
  },
  {
   "cell_type": "markdown",
   "metadata": {},
   "source": [
    "Аналогично выглядит конструктор генераторов:"
   ]
  },
  {
   "cell_type": "markdown",
   "metadata": {},
   "source": [
    "```w = ( х ** 2 for х in range(1,11) if x % 2 == 0 )\n",
    "print (w)\n",
    "print (type(w))```"
   ]
  },
  {
   "cell_type": "markdown",
   "metadata": {},
   "source": [
    "Как вы думаете как будет выглядеть результат выполнения этой программы?"
   ]
  },
  {
   "cell_type": "markdown",
   "metadata": {},
   "source": [
    "В этом случае весь список не будет храниться в памяти во время работы цикла.\n",
    "    Также в Python доступен цикл ```while```, который продолжает выполнение, пока выполнено указанное условие, а также операторы ```break```, который досрочно прерывает цикл, и ```continue```, который начинает следующий проход цикла, минуя оставшееся тело цикла. Например:"
   ]
  },
  {
   "cell_type": "markdown",
   "metadata": {},
   "source": [
    "```s = 0\n",
    "while True:\n",
    "    s += 1\n",
    "    if s % 2 == 0:\n",
    "        print (\"Continue\")\n",
    "        continue\n",
    "        print (s)\n",
    "    if s > 10:\n",
    "        break ```"
   ]
  },
  {
   "cell_type": "markdown",
   "metadata": {},
   "source": [
    "Кто сможет пояснить, как работает этот код?"
   ]
  },
  {
   "cell_type": "markdown",
   "metadata": {},
   "source": [
    "Важно уметь определять свои функции. Например, следующий код представляет собой альтернативную\n",
    "реализацию уже известной функции ```range```: "
   ]
  },
  {
   "cell_type": "markdown",
   "metadata": {},
   "source": [
    "```def myrange(a,b):\n",
    "    res = [ ]\n",
    "    s = a\n",
    "    while s!=b:\n",
    "        res.append(s)\n",
    "        s+=l\n",
    "    return (res)```\n"
   ]
  },
  {
   "cell_type": "markdown",
   "metadata": {},
   "source": [
    "Этот пример демонстрирует синтаксис для создания функций. На самом деле при создании функции необходимо обработать особые случаи, но это не является текущей целью.\n",
    "Функции в Python являются объектами первого класса: их можно передавать в качестве аргументов, присваивать их переменным и так далее. Например, функция ```map``` позволяет обрабатывать одну или несколько последовательностей с помощью переданной в качестве аргумента функции:\n"
   ]
  },
  {
   "cell_type": "markdown",
   "metadata": {},
   "source": [
    "```def sq(x):\n",
    "    return x ** 2```"
   ]
  },
  {
   "cell_type": "markdown",
   "metadata": {},
   "source": [
    "```list(map(sq, (range(10))))```"
   ]
  },
  {
   "cell_type": "markdown",
   "metadata": {},
   "source": [
    "Функция в Python может быть определена как с помощью оператора ```def```, так и с помощью лямбда-выражения. Следующие операторы эквивалентны:"
   ]
  },
  {
   "cell_type": "markdown",
   "metadata": {},
   "source": [
    "```def sq(x):\n",
    "    return x ** 2\n",
    "\n",
    "sq = lambda x: x**2```\n"
   ]
  },
  {
   "cell_type": "markdown",
   "metadata": {},
   "source": [
    "Тогда предыдущий код можно записать более компактно:"
   ]
  },
  {
   "cell_type": "markdown",
   "metadata": {},
   "source": [
    "```print (list(map(lambda х: х**2, range(10))))```"
   ]
  },
  {
   "cell_type": "markdown",
   "metadata": {},
   "source": [
    "# 3. Чтение данных из файла"
   ]
  },
  {
   "cell_type": "markdown",
   "metadata": {},
   "source": [
    "Часто для анализа необходимо загрузить данные, находящиеся во внешнем файле. Этот файл может быть простым текстовым документом, XML-документом или иметь любой другой пригодный для хранения данных формат. Для достижения этой цели Python предоставляет целый ряд разнообразных инструментов. Работа будет производиться в новой тетради IPython."
   ]
  },
  {
   "cell_type": "markdown",
   "metadata": {},
   "source": [
    "Самый простой способ прочитать данные из файла – использовать функцию open из стандартной библиотеки. Эта функция позволяет считать содержимое простого текстового файла. Информацию о том, какие аргументы принимает функция и какое значение возвращает можно найти в ```docstring``` этой функции. Чтобы прочитать ```docstring```, то есть строку документации по этой функции, необходимо набрать вопросительный знак и затем имя функции:"
   ]
  },
  {
   "cell_type": "markdown",
   "metadata": {},
   "source": [
    "```?open```"
   ]
  },
  {
   "cell_type": "markdown",
   "metadata": {},
   "source": [
    "В результате внизу появляется требуемое описание функции."
   ]
  },
  {
   "cell_type": "markdown",
   "metadata": {},
   "source": [
    "По данному тексту можно понять, что первый аргумент является обязательным и имеет смысл пути к файлу с данными (если файл лежит в рабочей директории, можно просто написать имя файла). Второй аргумент определяет режим, в котором требуется открыть файл. Существуют несколько основных режимов:\n",
    "- r \t - режим\tчтения\t(\tрежим\tпо умолчанию\t)\n",
    "- w \t - режим\tзаписи\t(\tданные из старого файла\tстираются\t)\n",
    "- а \t - режим\tдозаписи\t(\tновые\tданные будут\tдобавлены\tв\tконец файла )\n",
    "- r+ \t - режим\tчтения\tи\tзаписи\n",
    "\n",
    "Последний аргумент сейчас не представляет интереса. Функция возвращает объект-файл, с помощью которого будет происходить взаимодействие с файлом:"
   ]
  },
  {
   "cell_type": "code",
   "execution_count": 21,
   "metadata": {},
   "outputs": [],
   "source": [
    "file_obj = open(\"example.txt\",\"r\")"
   ]
  },
  {
   "cell_type": "markdown",
   "metadata": {},
   "source": [
    "Таким образом файл ```example.txt```, находящийся в рабочем каталоге, будет открыт только для чтения. С помощью метода read() можно вывести на экран все содержимое файла:"
   ]
  },
  {
   "cell_type": "code",
   "execution_count": 22,
   "metadata": {},
   "outputs": [
    {
     "name": "stdout",
     "output_type": "stream",
     "text": [
      "Привет, мир!\n",
      "тестовый файл\n",
      "занятие по чтению данных из файла в Python\n",
      "dfdff\n"
     ]
    }
   ],
   "source": [
    "print (file_obj.read())"
   ]
  },
  {
   "cell_type": "markdown",
   "metadata": {},
   "source": [
    "Часто бывает удобно считывать файл не целиком. С помощью метода ```readline``` можно не считывать весь файл, а считать только несколько первых строк. При первом вызове метода будет возвращена первая строка, а при повторном – вторая. Также сначала нужно открыть файл для чтения заново."
   ]
  },
  {
   "cell_type": "code",
   "execution_count": 23,
   "metadata": {},
   "outputs": [
    {
     "name": "stdout",
     "output_type": "stream",
     "text": [
      "Привет, мир!\n",
      "\n"
     ]
    }
   ],
   "source": [
    "file_obj = open(\"example.txt\",\"r\")\n",
    "print(file_obj.readline())"
   ]
  },
  {
   "cell_type": "code",
   "execution_count": 24,
   "metadata": {},
   "outputs": [
    {
     "name": "stdout",
     "output_type": "stream",
     "text": [
      "тестовый файл\n",
      "\n"
     ]
    }
   ],
   "source": [
    "print(file_obj.readline())"
   ]
  },
  {
   "cell_type": "code",
   "execution_count": 114,
   "metadata": {},
   "outputs": [
    {
     "name": "stdout",
     "output_type": "stream",
     "text": [
      "занятие по чтению данных из файла в Python\n"
     ]
    }
   ],
   "source": [
    "print(file_obj.readline())"
   ]
  },
  {
   "cell_type": "markdown",
   "metadata": {},
   "source": [
    "На самом деле пользоваться такими функциями совершенно не обязательно. С файлом можно работать как с обычным генератором. В следующем примере строчки файла выводятся с помощью цикла for:"
   ]
  },
  {
   "cell_type": "code",
   "execution_count": 25,
   "metadata": {},
   "outputs": [
    {
     "name": "stdout",
     "output_type": "stream",
     "text": [
      "Привет, мир!\n",
      "тестовый файл\n",
      "занятие по чтению данных из файла в Python\n",
      "dfdff\n"
     ]
    }
   ],
   "source": [
    "file_obj = open(\"example.txt\")\n",
    "for line in file_obj:\n",
    "    print (line.strip())"
   ]
  },
  {
   "cell_type": "markdown",
   "metadata": {},
   "source": [
    "Функция strip() удаляет все пробелы в начале и конце строки, включая символы табуляции, новой строки и\n",
    "так далее."
   ]
  },
  {
   "cell_type": "markdown",
   "metadata": {},
   "source": [
    "Бывает необходимым сохранить строки файла в виде списка. Это можно сделать с помощью конструктора списка list(), в качестве аргумента которого будет передан объект-файл. Поскольку объект-файл можно использовать как генератор, получившийся список будет содержать все строки файла."
   ]
  },
  {
   "cell_type": "code",
   "execution_count": 26,
   "metadata": {},
   "outputs": [
    {
     "name": "stdout",
     "output_type": "stream",
     "text": [
      "Привет, мир!\n",
      "тестовый файл\n",
      "занятие по чтению данных из файла в Python\n",
      "dfdff\n"
     ]
    }
   ],
   "source": [
    "file_obj = open(\"example.txt\")\n",
    "data_list = list(file_obj)\n",
    "for line in data_list:\n",
    "    print (line.strip())"
   ]
  },
  {
   "cell_type": "markdown",
   "metadata": {},
   "source": [
    "Другой способ состоит в использовании метода readlines() файл-объекта. Этот метод возвращает список из всех содержащихся в файле строк:"
   ]
  },
  {
   "cell_type": "code",
   "execution_count": 19,
   "metadata": {},
   "outputs": [
    {
     "name": "stdout",
     "output_type": "stream",
     "text": [
      "Привет, мир!\n",
      "тестовый файл\n",
      "занятие по чтению данных из файла в Python\n"
     ]
    }
   ],
   "source": [
    "file_obj = open(\"example.txt\")\n",
    "data_list = file_obj.readlines()\n",
    "for line in data_list: \n",
    "    print(line.strip())"
   ]
  },
  {
   "cell_type": "markdown",
   "metadata": {},
   "source": [
    "Оба способа дают одинаковый результат и можно выбрать любой из них.\n",
    "После того, как работа с файлом закончена, файл нужно закрыть с помощью команды close(). Считается хорошим тоном закрывать файлы, работа с которыми закончена. Во-первых, так будут освобождены системные ресурсы, которые задействованы в работе с файлом. Во-вторых, после закрытия файла он не может быть по ошибке испорчен и, если он редактировался, изменения точно будут сохранены на диске. Если метод close() был вызван для открытого файла, попытка продолжить работу с ним приведет к возникновению ошибки."
   ]
  },
  {
   "cell_type": "code",
   "execution_count": 27,
   "metadata": {},
   "outputs": [
    {
     "ename": "ValueError",
     "evalue": "I/O operation on closed file.",
     "output_type": "error",
     "traceback": [
      "\u001b[1;31m---------------------------------------------------------------------------\u001b[0m",
      "\u001b[1;31mValueError\u001b[0m                                Traceback (most recent call last)",
      "\u001b[1;32m<ipython-input-27-e65cf0220801>\u001b[0m in \u001b[0;36m<module>\u001b[1;34m\u001b[0m\n\u001b[0;32m      1\u001b[0m \u001b[0mfile_obj\u001b[0m \u001b[1;33m=\u001b[0m \u001b[0mopen\u001b[0m\u001b[1;33m(\u001b[0m\u001b[1;34m'example.txt'\u001b[0m\u001b[1;33m)\u001b[0m\u001b[1;33m\u001b[0m\u001b[1;33m\u001b[0m\u001b[0m\n\u001b[0;32m      2\u001b[0m \u001b[0mfile_obj\u001b[0m\u001b[1;33m.\u001b[0m\u001b[0mclose\u001b[0m\u001b[1;33m(\u001b[0m\u001b[1;33m)\u001b[0m\u001b[1;33m\u001b[0m\u001b[1;33m\u001b[0m\u001b[0m\n\u001b[1;32m----> 3\u001b[1;33m \u001b[0mfile_obj\u001b[0m\u001b[1;33m.\u001b[0m\u001b[0mread\u001b[0m\u001b[1;33m(\u001b[0m\u001b[1;33m)\u001b[0m\u001b[1;33m\u001b[0m\u001b[1;33m\u001b[0m\u001b[0m\n\u001b[0m",
      "\u001b[1;31mValueError\u001b[0m: I/O operation on closed file."
     ]
    }
   ],
   "source": [
    "file_obj = open('example.txt')\n",
    "file_obj.close()\n",
    "file_obj.read()\n"
   ]
  },
  {
   "cell_type": "markdown",
   "metadata": {},
   "source": [
    "Файл, с которым производилась работа до этого момента, был в кодировке ANSCII. Однако часто бывает необходимым прочитать файл в другой кодировке, например UTF8. Эта кодировка соответствует русскоязычной кириллице. Если непосредственно использовать функцию ореn(), как это делалось раньше:"
   ]
  },
  {
   "cell_type": "code",
   "execution_count": 28,
   "metadata": {},
   "outputs": [
    {
     "name": "stdout",
     "output_type": "stream",
     "text": [
      "п»їРџСЂРёРІРµС‚, РјРёСЂ!\n",
      "С‚РµСЃС‚РѕРІС‹Р№ С„Р°Р№Р»\n",
      "Р·Р°РЅСЏС‚РёРµ РїРѕ С‡С‚РµРЅРёСЋ РґР°РЅРЅС‹С… РёР· С„Р°Р№Р»Р° РІ Python\n"
     ]
    }
   ],
   "source": [
    "file_obj = open(\"example1.txt\")\n",
    "data_list = file_obj.readlines()\n",
    "for line in data_list: \n",
    "    print(line.strip())"
   ]
  },
  {
   "cell_type": "markdown",
   "metadata": {},
   "source": [
    "Для того, чтобы корректно отобразить прочитанный файл, можно использовать библиотеку codecs. Импортирование библиотеки происходит с помощью ключевого слова import. После этого файл нужно прочитать функцией ореn(), которая определена в библиотеке codecs. Эта функция отличается тем, что в ней можно указать такие дополнительные параметры как кодировка файла."
   ]
  },
  {
   "cell_type": "code",
   "execution_count": 41,
   "metadata": {},
   "outputs": [
    {
     "name": "stdout",
     "output_type": "stream",
     "text": [
      "﻿Привет, мир!\n",
      "тестовый файл\n",
      "занятие по чтению данных из файла в Python\n"
     ]
    }
   ],
   "source": [
    "import codecs\n",
    "\n",
    "file_obj = codecs.open(\"example1.txt\",\"r\", encoding = \"UTF8\")\n",
    "data_list = file_obj.readlines()\n",
    "for line in data_list:\n",
    "    print(line.strip())"
   ]
  },
  {
   "cell_type": "code",
   "execution_count": null,
   "metadata": {},
   "outputs": [],
   "source": []
  },
  {
   "cell_type": "markdown",
   "metadata": {},
   "source": [
    "# 4.\tЗапись данных в файл"
   ]
  },
  {
   "cell_type": "markdown",
   "metadata": {},
   "source": [
    "Сейчас мы подробно разбирем, как записать данные в файл средствами Python. Задача следующая – создать несколько текстовых строк и записать их в определенный файл.\n",
    "С помощью стандартной функции open() необходимо открыть файл для записи:\n"
   ]
  },
  {
   "cell_type": "code",
   "execution_count": 31,
   "metadata": {},
   "outputs": [],
   "source": [
    "file_obj = open('file_to_write_in.txt', 'w')"
   ]
  },
  {
   "cell_type": "markdown",
   "metadata": {},
   "source": [
    "Таким образом файл file_to_write_in.txt в рабочем каталоге создается для записи. Если файл с таким именем существовал до этого, его содержимое теряется.\n",
    "Теперь создадим переменную для строки, которую требуется записать в файл:"
   ]
  },
  {
   "cell_type": "code",
   "execution_count": 32,
   "metadata": {},
   "outputs": [],
   "source": [
    "string = 'строка для записи в файл\\n'"
   ]
  },
  {
   "cell_type": "markdown",
   "metadata": {},
   "source": [
    "В конце строки набран символ перевода строки. Это делается для того, чтобы при записи нескольких строк в файл они располагались на разных строчках, а не склеивались в одну. Запись производится с помощью метода write, который в качестве аргумента принимает строку для записи в файл. После того, как нужные данные записаны, файл нужно обязательно закрыть с помощью метода close:"
   ]
  },
  {
   "cell_type": "code",
   "execution_count": 33,
   "metadata": {},
   "outputs": [],
   "source": [
    "file_obj.write(string)\n",
    "file_obj.close()"
   ]
  },
  {
   "cell_type": "markdown",
   "metadata": {},
   "source": [
    "Если не закрыть файл, то очень легко его испортить. Хорошим тоном считается закрывать файлы сразу же, как только работа с ними прекращена."
   ]
  },
  {
   "cell_type": "code",
   "execution_count": 34,
   "metadata": {},
   "outputs": [
    {
     "name": "stdout",
     "output_type": "stream",
     "text": [
      "строка для записи в файл\n"
     ]
    }
   ],
   "source": [
    "file_obj = open(\"file_to_write_in.txt\")\n",
    "data_list = file_obj.readlines()\n",
    "for line in data_list: \n",
    "    print(line.strip())"
   ]
  },
  {
   "cell_type": "markdown",
   "metadata": {},
   "source": [
    "Пусть теперь необходимо добавить к файлу еще одну строчку. Если открыть файл и записать вторую строку так, как это делалось раньше: "
   ]
  },
  {
   "cell_type": "code",
   "execution_count": 35,
   "metadata": {},
   "outputs": [],
   "source": [
    "file_obj = open('file_to_write_in.txt', 'w')\n",
    "second_string = 'вторая строка для записи в файл\\n' \n",
    "file_obj.write(second_string)\n",
    "file_obj.close()"
   ]
  },
  {
   "cell_type": "markdown",
   "metadata": {},
   "source": [
    "то окажется, что перед записью новой строки все содержимое файла было стерто."
   ]
  },
  {
   "cell_type": "markdown",
   "metadata": {},
   "source": [
    "В режиме \"w\", если файл уже существует, его содержимое перезаписывается новым. Чтобы добавить строчку к существующему файлу необходимо использовать режим \"а\":"
   ]
  },
  {
   "cell_type": "code",
   "execution_count": 15,
   "metadata": {},
   "outputs": [],
   "source": [
    "# Запись 3 строки\n",
    "file_obj = open('file_to_write_in.txt', 'a')\n",
    "third_string = 'третья строка для записи в файл\\n'\n",
    "file_obj.write(third_string)\n",
    "file_obj.close()\n"
   ]
  },
  {
   "cell_type": "code",
   "execution_count": 16,
   "metadata": {},
   "outputs": [
    {
     "name": "stdout",
     "output_type": "stream",
     "text": [
      "вторая строка для записи в файл\n",
      "третья строка для записи в файл\n"
     ]
    }
   ],
   "source": [
    "file_obj = open(\"file_to_write_in.txt\")\n",
    "data_list = file_obj.readlines()\n",
    "for line in data_list: \n",
    "    print(line.strip())"
   ]
  },
  {
   "cell_type": "markdown",
   "metadata": {},
   "source": [
    "Часто необходимо записать сразу целый список строк в файл. Можно использовать цикл по списку из строк и записывать каждую с помощью функции write. Метод writelines позволяет сделать то же самое быстрее: достаточно просто передать в качестве первого аргумента список строк и он будет записан в файл.\n",
    "В следующем примере файл будет открыт немного по-другому. С помощью конструкции with ... as ...\n",
    ": удается избежать проблем с необходимость помнить о своевременном закрытии файла. Файл автоматически будет закрыт, как только весь код блока with будет выполнен."
   ]
  },
  {
   "cell_type": "code",
   "execution_count": 36,
   "metadata": {},
   "outputs": [],
   "source": [
    "digits = range(1,11)\n",
    "with open(\"second_file_to_write_in.txt\", \"w\") as file_obj:\n",
    "    file_obj.writelines(digit + '\\n' for digit in map(str, digits))\n"
   ]
  },
  {
   "cell_type": "code",
   "execution_count": 39,
   "metadata": {},
   "outputs": [
    {
     "name": "stdout",
     "output_type": "stream",
     "text": [
      "1\n",
      "2\n",
      "3\n",
      "4\n",
      "5\n",
      "6\n",
      "7\n",
      "8\n",
      "9\n",
      "10\n"
     ]
    }
   ],
   "source": [
    "file_obj = open(\"second_file_to_write_in.txt\")\n",
    "data_list = file_obj.readlines()\n",
    "for line in data_list: \n",
    "    print(line.strip())"
   ]
  },
  {
   "cell_type": "markdown",
   "metadata": {},
   "source": [
    "Практическое задание написать программу реализующую:\n",
    "    1. Создание 2-x массивов размерностью 5X5 из случайных чисел.\n",
    "    2. Запись этих массивов в разные файлы.\n",
    "    3. Чтение из файла записанных масивов и их перемножение.\n",
    "    4. Записи и чтения результата перемножения в файл."
   ]
  },
  {
   "cell_type": "code",
   "execution_count": 107,
   "metadata": {},
   "outputs": [
    {
     "name": "stdout",
     "output_type": "stream",
     "text": [
      "Matrix Difference: \n",
      " [[ 0.00000000e+00 -2.22044605e-16  0.00000000e+00  0.00000000e+00\n",
      "  -2.22044605e-16]\n",
      " [ 0.00000000e+00 -1.11022302e-16  0.00000000e+00  0.00000000e+00\n",
      "   1.11022302e-16]\n",
      " [ 5.55111512e-17  0.00000000e+00  0.00000000e+00  0.00000000e+00\n",
      "  -1.11022302e-16]\n",
      " [-2.22044605e-16  0.00000000e+00  0.00000000e+00 -2.22044605e-16\n",
      "  -2.22044605e-16]\n",
      " [ 0.00000000e+00  0.00000000e+00  2.22044605e-16  0.00000000e+00\n",
      "   0.00000000e+00]]\n",
      "Error:  9.43689570931383e-16\n"
     ]
    }
   ],
   "source": [
    "import random\n",
    "\n",
    "N = 5\n",
    "\n",
    "matr1 = [[random.random() for j in range(N)] for i in range(N)]\n",
    "matr2 = [[random.random() for j in range(N)] for i in range(N)]\n",
    "\n",
    "def write_file(file_name, matr):\n",
    "    file = open(file_name, 'w')\n",
    "    file.writelines([\" \".join(list(map(lambda x: str(x), row))) + \"\\n\" for row in matr])\n",
    "    file.close()\n",
    "\n",
    "write_file('first.txt', matr1)\n",
    "write_file('second.txt', matr2)\n",
    "\n",
    "matr1 = []\n",
    "matr2 = []\n",
    "\n",
    "file1 = open('first.txt', 'r')\n",
    "file2 = open('second.txt', 'r')\n",
    "\n",
    "rows1 = file1.readlines()\n",
    "rows2 = file2.readlines()\n",
    "\n",
    "file1.close()\n",
    "file2.close()\n",
    "\n",
    "matr1 = [list(map(lambda x: float(x), row.split(\" \"))) for row in rows1]\n",
    "matr2 = [list(map(lambda x: float(x), row.split(\" \"))) for row in rows2]\n",
    "\n",
    "multiplied = []\n",
    "\n",
    "for i in range(N):\n",
    "    multiplied.append([])\n",
    "    for j in range(N):\n",
    "        elem = sum([matr1[i][k] * matr2[k][j] for k in range(N)])\n",
    "        multiplied[i].append(elem)\n",
    "\n",
    "write_file('multiplied.txt', multiplied)\n",
    "\n",
    "file_result = open('multiplied.txt', 'r')\n",
    "\n",
    "rows_result = file_result.readlines()\n",
    "multiplied = [list(map(lambda x: float(x), row.split(\" \"))) for row in rows_result]\n",
    "\n",
    "import numpy as np\n",
    "\n",
    "multiply_by_numpy = np.dot(matr1, matr2)\n",
    "difference = multiplied - multiply_by_numpy\n",
    "print(\"Matrix Difference: \\n\", difference)\n",
    "\n",
    "error = abs(sum([sum(row) for row in difference]) / N*N)\n",
    "print(\"Error: \", error)"
   ]
  }
 ],
 "metadata": {
  "kernelspec": {
   "display_name": "Python 3",
   "language": "python",
   "name": "python3"
  },
  "language_info": {
   "codemirror_mode": {
    "name": "ipython",
    "version": 3
   },
   "file_extension": ".py",
   "mimetype": "text/x-python",
   "name": "python",
   "nbconvert_exporter": "python",
   "pygments_lexer": "ipython3",
   "version": "3.7.3"
  }
 },
 "nbformat": 4,
 "nbformat_minor": 2
}
